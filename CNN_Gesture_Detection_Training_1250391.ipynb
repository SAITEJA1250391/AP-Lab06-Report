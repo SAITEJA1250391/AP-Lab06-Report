{
  "nbformat": 4,
  "nbformat_minor": 0,
  "metadata": {
    "colab": {
      "provenance": [],
      "gpuType": "T4"
    },
    "kernelspec": {
      "name": "python3",
      "display_name": "Python 3"
    },
    "language_info": {
      "name": "python"
    },
    "accelerator": "GPU"
  },
  "cells": [
    {
      "cell_type": "code",
      "source": [
        "!unzip gesture_data.zip"
      ],
      "metadata": {
        "id": "PK7sOnXona_C",
        "colab": {
          "base_uri": "https://localhost:8080/"
        },
        "outputId": "cb32340c-6356-43cc-ed96-e4eee07b3039"
      },
      "execution_count": 1,
      "outputs": [
        {
          "output_type": "stream",
          "name": "stdout",
          "text": [
            "Archive:  gesture_data.zip\n",
            "replace gesture_data/no_thumbs_up/no_thumbs_up_20250529_152137_921.jpg? [y]es, [n]o, [A]ll, [N]one, [r]ename: "
          ]
        }
      ]
    },
    {
      "cell_type": "markdown",
      "source": [
        "Alternative MobileNet"
      ],
      "metadata": {
        "id": "cAX823TsrsVS"
      }
    },
    {
      "cell_type": "code",
      "execution_count": 2,
      "metadata": {
        "id": "Y0Ao2zkPdi-c",
        "colab": {
          "base_uri": "https://localhost:8080/"
        },
        "outputId": "ee86fc11-f7bc-46a6-9517-b63f45497489"
      },
      "outputs": [
        {
          "output_type": "stream",
          "name": "stdout",
          "text": [
            "Downloading data from https://storage.googleapis.com/tensorflow/keras-applications/mobilenet_v2/mobilenet_v2_weights_tf_dim_ordering_tf_kernels_1.0_160_no_top.h5\n",
            "\u001b[1m9406464/9406464\u001b[0m \u001b[32m━━━━━━━━━━━━━━━━━━━━\u001b[0m\u001b[37m\u001b[0m \u001b[1m0s\u001b[0m 0us/step\n"
          ]
        }
      ],
      "source": [
        "import tensorflow as tf\n",
        "from tensorflow.keras.preprocessing.image import ImageDataGenerator\n",
        "from tensorflow.keras.applications import MobileNetV2\n",
        "from tensorflow.keras import layers, models\n",
        "\n",
        "IMG_SIZE = (160, 160)\n",
        "\n",
        "base_model = MobileNetV2(input_shape=IMG_SIZE + (3,), include_top=False, weights='imagenet')\n",
        "base_model.trainable = False\n",
        "\n",
        "model = models.Sequential([\n",
        "    base_model,\n",
        "    layers.Flatten(),\n",
        "    layers.Dense(1, activation='sigmoid')\n",
        "])\n",
        "\n",
        "model.compile(optimizer='adam', loss='binary_crossentropy', metrics=['accuracy'])"
      ]
    },
    {
      "cell_type": "code",
      "source": [
        "train_datagen = tf.keras.preprocessing.image.ImageDataGenerator(validation_split=0.2, rescale=1./255)\n",
        "train_gen = train_datagen.flow_from_directory(\n",
        "    '/content/gesture_data',\n",
        "    target_size=IMG_SIZE,\n",
        "    class_mode='binary',\n",
        "    subset='training'\n",
        ")\n",
        "\n",
        "val_gen = train_datagen.flow_from_directory(\n",
        "    '/content/gesture_data',\n",
        "    target_size=IMG_SIZE,\n",
        "    class_mode='binary',\n",
        "    subset='validation'\n",
        ")"
      ],
      "metadata": {
        "id": "WwJUlsSuwvTm",
        "colab": {
          "base_uri": "https://localhost:8080/"
        },
        "outputId": "aff902f4-57a6-46c5-9613-a3746072c78f"
      },
      "execution_count": 3,
      "outputs": [
        {
          "output_type": "stream",
          "name": "stdout",
          "text": [
            "Found 276 images belonging to 2 classes.\n",
            "Found 68 images belonging to 2 classes.\n"
          ]
        }
      ]
    },
    {
      "cell_type": "code",
      "source": [
        "model.fit(train_gen, validation_data=val_gen, epochs=5)"
      ],
      "metadata": {
        "id": "e4SvJ0gEoEGS",
        "colab": {
          "base_uri": "https://localhost:8080/"
        },
        "outputId": "0b46d869-e4cf-423f-8559-199bfed0644a"
      },
      "execution_count": 4,
      "outputs": [
        {
          "output_type": "stream",
          "name": "stderr",
          "text": [
            "/usr/local/lib/python3.11/dist-packages/keras/src/trainers/data_adapters/py_dataset_adapter.py:121: UserWarning: Your `PyDataset` class should call `super().__init__(**kwargs)` in its constructor. `**kwargs` can include `workers`, `use_multiprocessing`, `max_queue_size`. Do not pass these arguments to `fit()`, as they will be ignored.\n",
            "  self._warn_if_super_not_called()\n"
          ]
        },
        {
          "output_type": "stream",
          "name": "stdout",
          "text": [
            "Epoch 1/5\n",
            "\u001b[1m9/9\u001b[0m \u001b[32m━━━━━━━━━━━━━━━━━━━━\u001b[0m\u001b[37m\u001b[0m \u001b[1m16s\u001b[0m 1s/step - accuracy: 0.6780 - loss: 1.0386 - val_accuracy: 0.7647 - val_loss: 1.1270\n",
            "Epoch 2/5\n",
            "\u001b[1m9/9\u001b[0m \u001b[32m━━━━━━━━━━━━━━━━━━━━\u001b[0m\u001b[37m\u001b[0m \u001b[1m7s\u001b[0m 789ms/step - accuracy: 0.9860 - loss: 0.0372 - val_accuracy: 0.7794 - val_loss: 1.2783\n",
            "Epoch 3/5\n",
            "\u001b[1m9/9\u001b[0m \u001b[32m━━━━━━━━━━━━━━━━━━━━\u001b[0m\u001b[37m\u001b[0m \u001b[1m8s\u001b[0m 861ms/step - accuracy: 1.0000 - loss: 1.4957e-04 - val_accuracy: 0.7647 - val_loss: 1.3033\n",
            "Epoch 4/5\n",
            "\u001b[1m9/9\u001b[0m \u001b[32m━━━━━━━━━━━━━━━━━━━━\u001b[0m\u001b[37m\u001b[0m \u001b[1m7s\u001b[0m 853ms/step - accuracy: 1.0000 - loss: 7.8261e-06 - val_accuracy: 0.7500 - val_loss: 1.3200\n",
            "Epoch 5/5\n",
            "\u001b[1m9/9\u001b[0m \u001b[32m━━━━━━━━━━━━━━━━━━━━\u001b[0m\u001b[37m\u001b[0m \u001b[1m7s\u001b[0m 711ms/step - accuracy: 1.0000 - loss: 1.0453e-05 - val_accuracy: 0.7500 - val_loss: 1.3280\n"
          ]
        },
        {
          "output_type": "execute_result",
          "data": {
            "text/plain": [
              "<keras.src.callbacks.history.History at 0x783f08632b50>"
            ]
          },
          "metadata": {},
          "execution_count": 4
        }
      ]
    },
    {
      "cell_type": "code",
      "source": [
        "converter = tf.lite.TFLiteConverter.from_keras_model(model)\n",
        "tflite_model = converter.convert()\n",
        "\n",
        "with open(\"cnn_gesture_model.tflite\", \"wb\") as f:\n",
        "    f.write(tflite_model)"
      ],
      "metadata": {
        "id": "3u-zZkt9d0EV",
        "colab": {
          "base_uri": "https://localhost:8080/"
        },
        "outputId": "bd4b214c-396a-4cea-c869-f0a8bab8515b"
      },
      "execution_count": 5,
      "outputs": [
        {
          "output_type": "stream",
          "name": "stdout",
          "text": [
            "Saved artifact at '/tmp/tmpz50m9oyd'. The following endpoints are available:\n",
            "\n",
            "* Endpoint 'serve'\n",
            "  args_0 (POSITIONAL_ONLY): TensorSpec(shape=(None, 160, 160, 3), dtype=tf.float32, name='keras_tensor_154')\n",
            "Output Type:\n",
            "  TensorSpec(shape=(None, 1), dtype=tf.float32, name=None)\n",
            "Captures:\n",
            "  132212159812752: TensorSpec(shape=(), dtype=tf.resource, name=None)\n",
            "  132212159815632: TensorSpec(shape=(), dtype=tf.resource, name=None)\n",
            "  132212159818896: TensorSpec(shape=(), dtype=tf.resource, name=None)\n",
            "  132212159818512: TensorSpec(shape=(), dtype=tf.resource, name=None)\n",
            "  132212159817360: TensorSpec(shape=(), dtype=tf.resource, name=None)\n",
            "  132212159819088: TensorSpec(shape=(), dtype=tf.resource, name=None)\n",
            "  132212159818128: TensorSpec(shape=(), dtype=tf.resource, name=None)\n",
            "  132212159815248: TensorSpec(shape=(), dtype=tf.resource, name=None)\n",
            "  132212159819280: TensorSpec(shape=(), dtype=tf.resource, name=None)\n",
            "  132212159816784: TensorSpec(shape=(), dtype=tf.resource, name=None)\n",
            "  132212159819664: TensorSpec(shape=(), dtype=tf.resource, name=None)\n",
            "  132212159821200: TensorSpec(shape=(), dtype=tf.resource, name=None)\n",
            "  132212159817936: TensorSpec(shape=(), dtype=tf.resource, name=None)\n",
            "  132212159817744: TensorSpec(shape=(), dtype=tf.resource, name=None)\n",
            "  132212159820240: TensorSpec(shape=(), dtype=tf.resource, name=None)\n",
            "  132212159823120: TensorSpec(shape=(), dtype=tf.resource, name=None)\n",
            "  132212157039824: TensorSpec(shape=(), dtype=tf.resource, name=None)\n",
            "  132212157038864: TensorSpec(shape=(), dtype=tf.resource, name=None)\n",
            "  132212157039632: TensorSpec(shape=(), dtype=tf.resource, name=None)\n",
            "  132212157038672: TensorSpec(shape=(), dtype=tf.resource, name=None)\n",
            "  132212157041360: TensorSpec(shape=(), dtype=tf.resource, name=None)\n",
            "  132212157040976: TensorSpec(shape=(), dtype=tf.resource, name=None)\n",
            "  132212157040592: TensorSpec(shape=(), dtype=tf.resource, name=None)\n",
            "  132212157041552: TensorSpec(shape=(), dtype=tf.resource, name=None)\n",
            "  132212157040208: TensorSpec(shape=(), dtype=tf.resource, name=None)\n",
            "  132212157043664: TensorSpec(shape=(), dtype=tf.resource, name=None)\n",
            "  132212157044048: TensorSpec(shape=(), dtype=tf.resource, name=None)\n",
            "  132212157044432: TensorSpec(shape=(), dtype=tf.resource, name=None)\n",
            "  132212157044240: TensorSpec(shape=(), dtype=tf.resource, name=None)\n",
            "  132212157039440: TensorSpec(shape=(), dtype=tf.resource, name=None)\n",
            "  132212157045584: TensorSpec(shape=(), dtype=tf.resource, name=None)\n",
            "  132212157045968: TensorSpec(shape=(), dtype=tf.resource, name=None)\n",
            "  132212157046352: TensorSpec(shape=(), dtype=tf.resource, name=None)\n",
            "  132212157046160: TensorSpec(shape=(), dtype=tf.resource, name=None)\n",
            "  132212157042512: TensorSpec(shape=(), dtype=tf.resource, name=None)\n",
            "  132212157047504: TensorSpec(shape=(), dtype=tf.resource, name=None)\n",
            "  132212157047888: TensorSpec(shape=(), dtype=tf.resource, name=None)\n",
            "  132212157048272: TensorSpec(shape=(), dtype=tf.resource, name=None)\n",
            "  132212157048080: TensorSpec(shape=(), dtype=tf.resource, name=None)\n",
            "  132212157043280: TensorSpec(shape=(), dtype=tf.resource, name=None)\n",
            "  132212157045200: TensorSpec(shape=(), dtype=tf.resource, name=None)\n",
            "  132212157050000: TensorSpec(shape=(), dtype=tf.resource, name=None)\n",
            "  132212157050384: TensorSpec(shape=(), dtype=tf.resource, name=None)\n",
            "  132212157050192: TensorSpec(shape=(), dtype=tf.resource, name=None)\n",
            "  132212157046736: TensorSpec(shape=(), dtype=tf.resource, name=None)\n",
            "  132212157049040: TensorSpec(shape=(), dtype=tf.resource, name=None)\n",
            "  132212157052112: TensorSpec(shape=(), dtype=tf.resource, name=None)\n",
            "  132212157052496: TensorSpec(shape=(), dtype=tf.resource, name=None)\n",
            "  132212157052304: TensorSpec(shape=(), dtype=tf.resource, name=None)\n",
            "  132212157049424: TensorSpec(shape=(), dtype=tf.resource, name=None)\n",
            "  132212157053648: TensorSpec(shape=(), dtype=tf.resource, name=None)\n",
            "  132212157054032: TensorSpec(shape=(), dtype=tf.resource, name=None)\n",
            "  132212157054800: TensorSpec(shape=(), dtype=tf.resource, name=None)\n",
            "  132212157054224: TensorSpec(shape=(), dtype=tf.resource, name=None)\n",
            "  132212157051152: TensorSpec(shape=(), dtype=tf.resource, name=None)\n",
            "  132212157049616: TensorSpec(shape=(), dtype=tf.resource, name=None)\n",
            "  132212157449232: TensorSpec(shape=(), dtype=tf.resource, name=None)\n",
            "  132212157448272: TensorSpec(shape=(), dtype=tf.resource, name=None)\n",
            "  132212157051728: TensorSpec(shape=(), dtype=tf.resource, name=None)\n",
            "  132212157449616: TensorSpec(shape=(), dtype=tf.resource, name=None)\n",
            "  132212157450768: TensorSpec(shape=(), dtype=tf.resource, name=None)\n",
            "  132212157451152: TensorSpec(shape=(), dtype=tf.resource, name=None)\n",
            "  132212157451536: TensorSpec(shape=(), dtype=tf.resource, name=None)\n",
            "  132212157451344: TensorSpec(shape=(), dtype=tf.resource, name=None)\n",
            "  132212157448656: TensorSpec(shape=(), dtype=tf.resource, name=None)\n",
            "  132212157452688: TensorSpec(shape=(), dtype=tf.resource, name=None)\n",
            "  132212157453072: TensorSpec(shape=(), dtype=tf.resource, name=None)\n",
            "  132212157453456: TensorSpec(shape=(), dtype=tf.resource, name=None)\n",
            "  132212157453264: TensorSpec(shape=(), dtype=tf.resource, name=None)\n",
            "  132212157448848: TensorSpec(shape=(), dtype=tf.resource, name=None)\n",
            "  132212157454608: TensorSpec(shape=(), dtype=tf.resource, name=None)\n",
            "  132212157454992: TensorSpec(shape=(), dtype=tf.resource, name=None)\n",
            "  132212157455376: TensorSpec(shape=(), dtype=tf.resource, name=None)\n",
            "  132212157455184: TensorSpec(shape=(), dtype=tf.resource, name=None)\n",
            "  132212157450384: TensorSpec(shape=(), dtype=tf.resource, name=None)\n",
            "  132212157456528: TensorSpec(shape=(), dtype=tf.resource, name=None)\n",
            "  132212157456912: TensorSpec(shape=(), dtype=tf.resource, name=None)\n",
            "  132212157457296: TensorSpec(shape=(), dtype=tf.resource, name=None)\n",
            "  132212157457104: TensorSpec(shape=(), dtype=tf.resource, name=None)\n",
            "  132212157452304: TensorSpec(shape=(), dtype=tf.resource, name=None)\n",
            "  132212157458448: TensorSpec(shape=(), dtype=tf.resource, name=None)\n",
            "  132212157458832: TensorSpec(shape=(), dtype=tf.resource, name=None)\n",
            "  132212157459216: TensorSpec(shape=(), dtype=tf.resource, name=None)\n",
            "  132212157459024: TensorSpec(shape=(), dtype=tf.resource, name=None)\n",
            "  132212157454224: TensorSpec(shape=(), dtype=tf.resource, name=None)\n",
            "  132212157460368: TensorSpec(shape=(), dtype=tf.resource, name=None)\n",
            "  132212157460752: TensorSpec(shape=(), dtype=tf.resource, name=None)\n",
            "  132212157461136: TensorSpec(shape=(), dtype=tf.resource, name=None)\n",
            "  132212157460944: TensorSpec(shape=(), dtype=tf.resource, name=None)\n",
            "  132212157456144: TensorSpec(shape=(), dtype=tf.resource, name=None)\n",
            "  132212157462288: TensorSpec(shape=(), dtype=tf.resource, name=None)\n",
            "  132212157462672: TensorSpec(shape=(), dtype=tf.resource, name=None)\n",
            "  132212157463056: TensorSpec(shape=(), dtype=tf.resource, name=None)\n",
            "  132212157462864: TensorSpec(shape=(), dtype=tf.resource, name=None)\n",
            "  132212157458064: TensorSpec(shape=(), dtype=tf.resource, name=None)\n",
            "  132212157464208: TensorSpec(shape=(), dtype=tf.resource, name=None)\n",
            "  132212157449424: TensorSpec(shape=(), dtype=tf.resource, name=None)\n",
            "  132212157808720: TensorSpec(shape=(), dtype=tf.resource, name=None)\n",
            "  132212157463824: TensorSpec(shape=(), dtype=tf.resource, name=None)\n",
            "  132212157461904: TensorSpec(shape=(), dtype=tf.resource, name=None)\n",
            "  132212157810256: TensorSpec(shape=(), dtype=tf.resource, name=None)\n",
            "  132212157810640: TensorSpec(shape=(), dtype=tf.resource, name=None)\n",
            "  132212157811024: TensorSpec(shape=(), dtype=tf.resource, name=None)\n",
            "  132212157810832: TensorSpec(shape=(), dtype=tf.resource, name=None)\n",
            "  132212157809488: TensorSpec(shape=(), dtype=tf.resource, name=None)\n",
            "  132212157808912: TensorSpec(shape=(), dtype=tf.resource, name=None)\n",
            "  132212157813712: TensorSpec(shape=(), dtype=tf.resource, name=None)\n",
            "  132212157809872: TensorSpec(shape=(), dtype=tf.resource, name=None)\n",
            "  132212157812176: TensorSpec(shape=(), dtype=tf.resource, name=None)\n",
            "  132212157811408: TensorSpec(shape=(), dtype=tf.resource, name=None)\n",
            "  132212157811792: TensorSpec(shape=(), dtype=tf.resource, name=None)\n",
            "  132212157814480: TensorSpec(shape=(), dtype=tf.resource, name=None)\n",
            "  132212157814864: TensorSpec(shape=(), dtype=tf.resource, name=None)\n",
            "  132212157814672: TensorSpec(shape=(), dtype=tf.resource, name=None)\n",
            "  132212157812368: TensorSpec(shape=(), dtype=tf.resource, name=None)\n",
            "  132212157816016: TensorSpec(shape=(), dtype=tf.resource, name=None)\n",
            "  132212157816400: TensorSpec(shape=(), dtype=tf.resource, name=None)\n",
            "  132212157816784: TensorSpec(shape=(), dtype=tf.resource, name=None)\n",
            "  132212157816592: TensorSpec(shape=(), dtype=tf.resource, name=None)\n",
            "  132212157814096: TensorSpec(shape=(), dtype=tf.resource, name=None)\n",
            "  132212157817936: TensorSpec(shape=(), dtype=tf.resource, name=None)\n",
            "  132212157818320: TensorSpec(shape=(), dtype=tf.resource, name=None)\n",
            "  132212157818704: TensorSpec(shape=(), dtype=tf.resource, name=None)\n",
            "  132212157818512: TensorSpec(shape=(), dtype=tf.resource, name=None)\n",
            "  132212157812944: TensorSpec(shape=(), dtype=tf.resource, name=None)\n",
            "  132212157819856: TensorSpec(shape=(), dtype=tf.resource, name=None)\n",
            "  132212157820240: TensorSpec(shape=(), dtype=tf.resource, name=None)\n",
            "  132212157820624: TensorSpec(shape=(), dtype=tf.resource, name=None)\n",
            "  132212157820432: TensorSpec(shape=(), dtype=tf.resource, name=None)\n",
            "  132212157815632: TensorSpec(shape=(), dtype=tf.resource, name=None)\n",
            "  132212157821776: TensorSpec(shape=(), dtype=tf.resource, name=None)\n",
            "  132212157822160: TensorSpec(shape=(), dtype=tf.resource, name=None)\n",
            "  132212157822544: TensorSpec(shape=(), dtype=tf.resource, name=None)\n",
            "  132212157822352: TensorSpec(shape=(), dtype=tf.resource, name=None)\n",
            "  132212157817552: TensorSpec(shape=(), dtype=tf.resource, name=None)\n",
            "  132212157823696: TensorSpec(shape=(), dtype=tf.resource, name=None)\n",
            "  132212157824080: TensorSpec(shape=(), dtype=tf.resource, name=None)\n",
            "  132212157824848: TensorSpec(shape=(), dtype=tf.resource, name=None)\n",
            "  132212157824272: TensorSpec(shape=(), dtype=tf.resource, name=None)\n",
            "  132212157819472: TensorSpec(shape=(), dtype=tf.resource, name=None)\n",
            "  132212157809680: TensorSpec(shape=(), dtype=tf.resource, name=None)\n",
            "  132212120060944: TensorSpec(shape=(), dtype=tf.resource, name=None)\n",
            "  132212120059984: TensorSpec(shape=(), dtype=tf.resource, name=None)\n",
            "  132212157821392: TensorSpec(shape=(), dtype=tf.resource, name=None)\n",
            "  132212120060176: TensorSpec(shape=(), dtype=tf.resource, name=None)\n",
            "  132212120062480: TensorSpec(shape=(), dtype=tf.resource, name=None)\n",
            "  132212120062864: TensorSpec(shape=(), dtype=tf.resource, name=None)\n",
            "  132212120063248: TensorSpec(shape=(), dtype=tf.resource, name=None)\n",
            "  132212120063056: TensorSpec(shape=(), dtype=tf.resource, name=None)\n",
            "  132212120060368: TensorSpec(shape=(), dtype=tf.resource, name=None)\n",
            "  132212120064400: TensorSpec(shape=(), dtype=tf.resource, name=None)\n",
            "  132212120064784: TensorSpec(shape=(), dtype=tf.resource, name=None)\n",
            "  132212120065168: TensorSpec(shape=(), dtype=tf.resource, name=None)\n",
            "  132212120064976: TensorSpec(shape=(), dtype=tf.resource, name=None)\n",
            "  132212120061328: TensorSpec(shape=(), dtype=tf.resource, name=None)\n",
            "  132212120066320: TensorSpec(shape=(), dtype=tf.resource, name=None)\n",
            "  132212120066704: TensorSpec(shape=(), dtype=tf.resource, name=None)\n",
            "  132212120067088: TensorSpec(shape=(), dtype=tf.resource, name=None)\n",
            "  132212120066896: TensorSpec(shape=(), dtype=tf.resource, name=None)\n",
            "  132212120062096: TensorSpec(shape=(), dtype=tf.resource, name=None)\n",
            "  132212120068240: TensorSpec(shape=(), dtype=tf.resource, name=None)\n",
            "  132212120068624: TensorSpec(shape=(), dtype=tf.resource, name=None)\n",
            "  132212120069008: TensorSpec(shape=(), dtype=tf.resource, name=None)\n",
            "  132212120068816: TensorSpec(shape=(), dtype=tf.resource, name=None)\n",
            "  132212120064016: TensorSpec(shape=(), dtype=tf.resource, name=None)\n",
            "  132212120070160: TensorSpec(shape=(), dtype=tf.resource, name=None)\n",
            "  132212120070544: TensorSpec(shape=(), dtype=tf.resource, name=None)\n",
            "  132212120070928: TensorSpec(shape=(), dtype=tf.resource, name=None)\n",
            "  132212120070736: TensorSpec(shape=(), dtype=tf.resource, name=None)\n",
            "  132212120065936: TensorSpec(shape=(), dtype=tf.resource, name=None)\n",
            "  132212120072080: TensorSpec(shape=(), dtype=tf.resource, name=None)\n",
            "  132212120072464: TensorSpec(shape=(), dtype=tf.resource, name=None)\n",
            "  132212120072848: TensorSpec(shape=(), dtype=tf.resource, name=None)\n",
            "  132212120072656: TensorSpec(shape=(), dtype=tf.resource, name=None)\n",
            "  132212120067856: TensorSpec(shape=(), dtype=tf.resource, name=None)\n",
            "  132212120074000: TensorSpec(shape=(), dtype=tf.resource, name=None)\n",
            "  132212120074384: TensorSpec(shape=(), dtype=tf.resource, name=None)\n",
            "  132212120074768: TensorSpec(shape=(), dtype=tf.resource, name=None)\n",
            "  132212120074576: TensorSpec(shape=(), dtype=tf.resource, name=None)\n",
            "  132212120069776: TensorSpec(shape=(), dtype=tf.resource, name=None)\n",
            "  132212120075920: TensorSpec(shape=(), dtype=tf.resource, name=None)\n",
            "  132212120060752: TensorSpec(shape=(), dtype=tf.resource, name=None)\n",
            "  132212120437200: TensorSpec(shape=(), dtype=tf.resource, name=None)\n",
            "  132212120075536: TensorSpec(shape=(), dtype=tf.resource, name=None)\n",
            "  132212120073616: TensorSpec(shape=(), dtype=tf.resource, name=None)\n",
            "  132212120438352: TensorSpec(shape=(), dtype=tf.resource, name=None)\n",
            "  132212120438736: TensorSpec(shape=(), dtype=tf.resource, name=None)\n",
            "  132212120439120: TensorSpec(shape=(), dtype=tf.resource, name=None)\n",
            "  132212120438928: TensorSpec(shape=(), dtype=tf.resource, name=None)\n",
            "  132212120437584: TensorSpec(shape=(), dtype=tf.resource, name=None)\n",
            "  132212120440272: TensorSpec(shape=(), dtype=tf.resource, name=None)\n",
            "  132212120440656: TensorSpec(shape=(), dtype=tf.resource, name=None)\n",
            "  132212120441040: TensorSpec(shape=(), dtype=tf.resource, name=None)\n",
            "  132212120440848: TensorSpec(shape=(), dtype=tf.resource, name=None)\n",
            "  132212120437776: TensorSpec(shape=(), dtype=tf.resource, name=None)\n",
            "  132212120442192: TensorSpec(shape=(), dtype=tf.resource, name=None)\n",
            "  132212120442576: TensorSpec(shape=(), dtype=tf.resource, name=None)\n",
            "  132212120442960: TensorSpec(shape=(), dtype=tf.resource, name=None)\n",
            "  132212120442768: TensorSpec(shape=(), dtype=tf.resource, name=None)\n",
            "  132212120437008: TensorSpec(shape=(), dtype=tf.resource, name=None)\n",
            "  132212120444112: TensorSpec(shape=(), dtype=tf.resource, name=None)\n",
            "  132212120444496: TensorSpec(shape=(), dtype=tf.resource, name=None)\n",
            "  132212120444880: TensorSpec(shape=(), dtype=tf.resource, name=None)\n",
            "  132212120444688: TensorSpec(shape=(), dtype=tf.resource, name=None)\n",
            "  132212120439888: TensorSpec(shape=(), dtype=tf.resource, name=None)\n",
            "  132212120446032: TensorSpec(shape=(), dtype=tf.resource, name=None)\n",
            "  132212120446416: TensorSpec(shape=(), dtype=tf.resource, name=None)\n",
            "  132212120446800: TensorSpec(shape=(), dtype=tf.resource, name=None)\n",
            "  132212120446608: TensorSpec(shape=(), dtype=tf.resource, name=None)\n",
            "  132212120441808: TensorSpec(shape=(), dtype=tf.resource, name=None)\n",
            "  132212120447952: TensorSpec(shape=(), dtype=tf.resource, name=None)\n",
            "  132212120448336: TensorSpec(shape=(), dtype=tf.resource, name=None)\n",
            "  132212120448720: TensorSpec(shape=(), dtype=tf.resource, name=None)\n",
            "  132212120448528: TensorSpec(shape=(), dtype=tf.resource, name=None)\n",
            "  132212120443728: TensorSpec(shape=(), dtype=tf.resource, name=None)\n",
            "  132212120449872: TensorSpec(shape=(), dtype=tf.resource, name=None)\n",
            "  132212120450256: TensorSpec(shape=(), dtype=tf.resource, name=None)\n",
            "  132212120450640: TensorSpec(shape=(), dtype=tf.resource, name=None)\n",
            "  132212120450448: TensorSpec(shape=(), dtype=tf.resource, name=None)\n",
            "  132212120445648: TensorSpec(shape=(), dtype=tf.resource, name=None)\n",
            "  132212120451792: TensorSpec(shape=(), dtype=tf.resource, name=None)\n",
            "  132212120452176: TensorSpec(shape=(), dtype=tf.resource, name=None)\n",
            "  132212120452944: TensorSpec(shape=(), dtype=tf.resource, name=None)\n",
            "  132212120452368: TensorSpec(shape=(), dtype=tf.resource, name=None)\n",
            "  132212120447568: TensorSpec(shape=(), dtype=tf.resource, name=None)\n",
            "  132212120437968: TensorSpec(shape=(), dtype=tf.resource, name=None)\n",
            "  132212118766608: TensorSpec(shape=(), dtype=tf.resource, name=None)\n",
            "  132212118765648: TensorSpec(shape=(), dtype=tf.resource, name=None)\n",
            "  132212120449488: TensorSpec(shape=(), dtype=tf.resource, name=None)\n",
            "  132212118765840: TensorSpec(shape=(), dtype=tf.resource, name=None)\n",
            "  132212118768144: TensorSpec(shape=(), dtype=tf.resource, name=None)\n",
            "  132212118768528: TensorSpec(shape=(), dtype=tf.resource, name=None)\n",
            "  132212118768912: TensorSpec(shape=(), dtype=tf.resource, name=None)\n",
            "  132212118768720: TensorSpec(shape=(), dtype=tf.resource, name=None)\n",
            "  132212118766032: TensorSpec(shape=(), dtype=tf.resource, name=None)\n",
            "  132212118770064: TensorSpec(shape=(), dtype=tf.resource, name=None)\n",
            "  132212118770448: TensorSpec(shape=(), dtype=tf.resource, name=None)\n",
            "  132212118770832: TensorSpec(shape=(), dtype=tf.resource, name=None)\n",
            "  132212118770640: TensorSpec(shape=(), dtype=tf.resource, name=None)\n",
            "  132212118766992: TensorSpec(shape=(), dtype=tf.resource, name=None)\n",
            "  132212118771984: TensorSpec(shape=(), dtype=tf.resource, name=None)\n",
            "  132212118772368: TensorSpec(shape=(), dtype=tf.resource, name=None)\n",
            "  132212118772752: TensorSpec(shape=(), dtype=tf.resource, name=None)\n",
            "  132212118772560: TensorSpec(shape=(), dtype=tf.resource, name=None)\n",
            "  132212118767760: TensorSpec(shape=(), dtype=tf.resource, name=None)\n",
            "  132212118773904: TensorSpec(shape=(), dtype=tf.resource, name=None)\n",
            "  132212118774288: TensorSpec(shape=(), dtype=tf.resource, name=None)\n",
            "  132212118774672: TensorSpec(shape=(), dtype=tf.resource, name=None)\n",
            "  132212118774480: TensorSpec(shape=(), dtype=tf.resource, name=None)\n",
            "  132212118769680: TensorSpec(shape=(), dtype=tf.resource, name=None)\n",
            "  132212118775824: TensorSpec(shape=(), dtype=tf.resource, name=None)\n",
            "  132212118776208: TensorSpec(shape=(), dtype=tf.resource, name=None)\n",
            "  132212118776592: TensorSpec(shape=(), dtype=tf.resource, name=None)\n",
            "  132212118776400: TensorSpec(shape=(), dtype=tf.resource, name=None)\n",
            "  132212118771600: TensorSpec(shape=(), dtype=tf.resource, name=None)\n",
            "  132212118777744: TensorSpec(shape=(), dtype=tf.resource, name=None)\n",
            "  132212118778128: TensorSpec(shape=(), dtype=tf.resource, name=None)\n",
            "  132212118778512: TensorSpec(shape=(), dtype=tf.resource, name=None)\n",
            "  132212118778320: TensorSpec(shape=(), dtype=tf.resource, name=None)\n",
            "  132212118773520: TensorSpec(shape=(), dtype=tf.resource, name=None)\n",
            "  132212118777360: TensorSpec(shape=(), dtype=tf.resource, name=None)\n",
            "  132212118781200: TensorSpec(shape=(), dtype=tf.resource, name=None)\n"
          ]
        }
      ]
    },
    {
      "cell_type": "code",
      "source": [],
      "metadata": {
        "id": "8QY7N9Oywko7"
      },
      "execution_count": 5,
      "outputs": []
    }
  ]
}